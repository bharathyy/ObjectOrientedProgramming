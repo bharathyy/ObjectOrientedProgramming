{
 "cells": [
  {
   "cell_type": "code",
   "execution_count": 1,
   "metadata": {},
   "outputs": [
    {
     "name": "stdout",
     "output_type": "stream",
     "text": [
      "type is  cat\n",
      "Name is  bumroo\n",
      "type is  cat\n",
      "Name is  whitey\n"
     ]
    }
   ],
   "source": [
    "class animal(object):\n",
    "    def __init__(self,type):\n",
    "        self.type=type\n",
    "    def display(self):\n",
    "        print(\"type is \",self.type)\n",
    "\n",
    "\n",
    "class cat(animal):\n",
    "    def __init__(self,name,type):\n",
    "        self.name=name\n",
    "        animal.__init__(self,type)\n",
    "    def display(self):\n",
    "        print(\"type is \",self.type)\n",
    "        print(\"Name is \",self.name)\n",
    "\n",
    "\n",
    "a=cat(\"bumroo\",\"cat\")\n",
    "b=cat(\"whitey\",\"cat\")\n",
    "\n",
    "a.display()\n",
    "b.display()\n",
    "\n"
   ]
  },
  {
   "cell_type": "markdown",
   "metadata": {},
   "source": [
    "Inheritance in OOP is the ability of the derived class to inherit prperties and attributes from the base class\n",
    "\n",
    "Benefits:\n",
    "\n",
    "It models real-word problems well\n",
    "\n",
    "It provides us reusablity of code\n",
    "\n",
    "It is transitive in nature. If A->B then any sub class inherited from B also has properties of A."
   ]
  },
  {
   "cell_type": "code",
   "execution_count": 6,
   "metadata": {},
   "outputs": [
    {
     "name": "stdout",
     "output_type": "stream",
     "text": [
      "ABS\n",
      "BAJAJ\n"
     ]
    }
   ],
   "source": [
    "#Models real word problem well\n",
    "\n",
    "class vehicle:\n",
    "    def __init__(self,motor,speed,chasis):\n",
    "        self.motor=motor\n",
    "        self.speed= speed\n",
    "        self.chasis=chasis\n",
    "\n",
    "\n",
    "class car(vehicle):\n",
    "    def __init__(self,speed,motor,chasis,breaktype,color):\n",
    "        vehicle.__init__(self,motor,speed,chasis)#instantiation of parent\n",
    "        self.breaktype=breaktype\n",
    "        self.color=color\n",
    "    def display(self):\n",
    "        print(self.breaktype)\n",
    "        print(self.motor)\n",
    "\n",
    "c1=car(34,\"BAJAJ\",\"METAL\",\"ABS\",\"white\")\n",
    "c1.display()"
   ]
  },
  {
   "cell_type": "markdown",
   "metadata": {},
   "source": [
    "If we forget to invoke the parent class in the child class. Then we might get attribute error\n",
    "\n",
    "Instead of using the name of the parent class. What we may inturn do is that. We can make use of \n",
    "a keyword known as super.\n",
    "\n",
    "super is nothing but an inbuilt function which returns the object of the parent class"
   ]
  },
  {
   "cell_type": "code",
   "execution_count": 7,
   "metadata": {},
   "outputs": [
    {
     "name": "stdout",
     "output_type": "stream",
     "text": [
      "Child Class Bar 4\n"
     ]
    }
   ],
   "source": [
    "class Parent:\n",
    "    def __init__(self,name):\n",
    "        self.name=name\n",
    "    def display(self):\n",
    "        print(\"Parent Class\",self.name)\n",
    "    \n",
    "\n",
    "class Child(Parent):\n",
    "    def __init__(self,roll,name):\n",
    "        self.roll=roll\n",
    "        self.name=name\n",
    "        super().__init__(self.name)\n",
    "    def display(self):\n",
    "        print(\"Child Class\",self.name,self.roll)\n",
    "\n",
    "\n",
    "bar=Child(4,\"Bar\")\n",
    "bar.display()"
   ]
  },
  {
   "cell_type": "code",
   "execution_count": 11,
   "metadata": {},
   "outputs": [
    {
     "name": "stdout",
     "output_type": "stream",
     "text": [
      "AMCS\n",
      "Bharathi\n"
     ]
    }
   ],
   "source": [
    "#Single Inheritance\n",
    "class Base:\n",
    "    def __init__(self,name,roll):\n",
    "        self.name=name\n",
    "        self.__roll=roll\n",
    "    def display(self):\n",
    "        print(\"name\",self.name)\n",
    "        print(\"roll\",self.__roll)\n",
    "    \n",
    "\n",
    "class Derived(Base):\n",
    "    def __init__(self,dept,name,roll):\n",
    "        self.__dept=dept\n",
    "        super().__init__(name,roll)\n",
    "    \n",
    "    def display(self):\n",
    "        print(self.__dept)\n",
    "\n",
    "\n",
    "\n",
    "d1=Derived(\"AMCS\",\"Bharathi\",\"21pd04\")\n",
    "d1.display()\n",
    "print(d1.name)\n",
    "#print(d1.roll)"
   ]
  },
  {
   "cell_type": "markdown",
   "metadata": {},
   "source": [
    "In case of python we use _ for protected attributes and methods\n",
    "and __ for private attributes and methods"
   ]
  },
  {
   "cell_type": "code",
   "execution_count": 12,
   "metadata": {},
   "outputs": [
    {
     "name": "stdout",
     "output_type": "stream",
     "text": [
      "4\n",
      "21\n"
     ]
    },
    {
     "data": {
      "text/plain": [
       "21"
      ]
     },
     "execution_count": 12,
     "metadata": {},
     "output_type": "execute_result"
    }
   ],
   "source": [
    "class bar:\n",
    "    def __init__(self):\n",
    "        self.__name=\"BHarathi\"\n",
    "        self.rol=4\n",
    "        self._age=21\n",
    "    \n",
    "class foo(bar):\n",
    "    def __init__(self):\n",
    "        self.__game=\"Princess\"\n",
    "        super().__init__()\n",
    "    \n",
    "\n",
    "b1=bar()\n",
    "print(b1.rol)\n",
    "print(b1._age)\n",
    "#print(b1.name)\n",
    "f1=foo()\n",
    "f1._age\n",
    "#f1.__name"
   ]
  },
  {
   "cell_type": "code",
   "execution_count": null,
   "metadata": {},
   "outputs": [],
   "source": []
  },
  {
   "cell_type": "markdown",
   "metadata": {},
   "source": [
    "The visiblity is\n",
    "\n",
    "\n",
    "for Public all functions can access\n",
    "\n",
    "for Private No other class than the class itself only can access\n",
    "\n",
    "for Protected the Class and the derived subclass can access"
   ]
  }
 ],
 "metadata": {
  "kernelspec": {
   "display_name": "Python 3",
   "language": "python",
   "name": "python3"
  },
  "language_info": {
   "codemirror_mode": {
    "name": "ipython",
    "version": 3
   },
   "file_extension": ".py",
   "mimetype": "text/x-python",
   "name": "python",
   "nbconvert_exporter": "python",
   "pygments_lexer": "ipython3",
   "version": "3.11.9"
  }
 },
 "nbformat": 4,
 "nbformat_minor": 2
}
